{
 "cells": [
  {
   "cell_type": "markdown",
   "metadata": {},
   "source": [
    "# 1."
   ]
  },
  {
   "cell_type": "markdown",
   "metadata": {},
   "source": [
    "# 1. Simple \"print\" Statement in Python"
   ]
  },
  {
   "cell_type": "code",
   "execution_count": 1,
   "metadata": {},
   "outputs": [
    {
     "name": "stdout",
     "output_type": "stream",
     "text": [
      "Your Statement\n"
     ]
    }
   ],
   "source": [
    "# Syntax of print() statement\n",
    "\n",
    "#1.1\n",
    "# Display your statement by using the Double Quotations\n",
    "print(\"Your Statement\")\n",
    "\n",
    "#1.2 \n",
    "# Display your statement by using the Single Quotations\n",
    "print('Your Statement')"
   ]
  },
  {
   "cell_type": "markdown",
   "metadata": {},
   "source": [
    "# 1.1 Recommented Syntax"
   ]
  },
  {
   "cell_type": "raw",
   "metadata": {},
   "source": [
    "Good Programming practise is to using Double quotes \n",
    "Because single quotes can generate errors if any \n",
    "other single quote is using."
   ]
  },
  {
   "cell_type": "markdown",
   "metadata": {},
   "source": [
    "# 1.1 Example"
   ]
  },
  {
   "cell_type": "code",
   "execution_count": 5,
   "metadata": {},
   "outputs": [
    {
     "name": "stdout",
     "output_type": "stream",
     "text": [
      "It's my Laptop\n"
     ]
    }
   ],
   "source": [
    "print(\"It's my Laptop\") # Executed without any Error\n",
    "print('It's my Laptop') # This will generate Error"
   ]
  },
  {
   "cell_type": "markdown",
   "metadata": {},
   "source": [
    "# 1.2 Display \"Hello World\" "
   ]
  },
  {
   "cell_type": "code",
   "execution_count": 6,
   "metadata": {
    "collapsed": true
   },
   "outputs": [
    {
     "name": "stdout",
     "output_type": "stream",
     "text": [
      "Hello World\n"
     ]
    }
   ],
   "source": [
    "print(\"Hello World\")"
   ]
  },
  {
   "cell_type": "markdown",
   "metadata": {},
   "source": [
    "# 2."
   ]
  },
  {
   "cell_type": "markdown",
   "metadata": {},
   "source": [
    "# 2. Python Indentation"
   ]
  },
  {
   "cell_type": "raw",
   "metadata": {},
   "source": [
    "Q: What is Indentation ?\n",
    "Ans: Indentation refers to the spaces at the beginning of a code line.In Python \n",
    "Language programmers use indentation for block of Code. Like other languages using\n",
    "their Syntax to write Code like Brackets in C,C++,Java same as in \n",
    "programmers follow the indentation."
   ]
  },
  {
   "cell_type": "markdown",
   "metadata": {},
   "source": [
    "# 2.1 If Statement Syntax"
   ]
  },
  {
   "cell_type": "markdown",
   "metadata": {},
   "source": [
    "## Remember these things for if Statement Syntax"
   ]
  },
  {
   "cell_type": "raw",
   "metadata": {},
   "source": [
    "1. \"if\" Keyword.\n",
    "2. Any Conditional Operator Between values.\n",
    "3. Values will be on both sides of operator.\n",
    "4. At the end of \"if\" statement must use colon \":\"\n",
    "5. Press Enter the Automatically Indentation will be set and no need you add or remove space"
   ]
  },
  {
   "cell_type": "raw",
   "metadata": {},
   "source": [
    "if value Operator value colon"
   ]
  },
  {
   "cell_type": "markdown",
   "metadata": {},
   "source": [
    "# 2.1 Example"
   ]
  },
  {
   "cell_type": "code",
   "execution_count": 16,
   "metadata": {},
   "outputs": [
    {
     "name": "stdout",
     "output_type": "stream",
     "text": [
      "5 is greater than 2\n"
     ]
    }
   ],
   "source": [
    "if 5 > 2:\n",
    "    print(\"5 is greater than 2\")"
   ]
  },
  {
   "cell_type": "markdown",
   "metadata": {},
   "source": [
    "# 2.1 Example with Error"
   ]
  },
  {
   "cell_type": "code",
   "execution_count": 20,
   "metadata": {},
   "outputs": [],
   "source": [
    "if 5 > 2:\n",
    "print(\"5 is greater than 2\")"
   ]
  },
  {
   "cell_type": "markdown",
   "metadata": {},
   "source": [
    "# 3."
   ]
  },
  {
   "cell_type": "markdown",
   "metadata": {},
   "source": [
    "# 3. Python Variables"
   ]
  },
  {
   "cell_type": "raw",
   "metadata": {},
   "source": [
    "In Python Language there is no need to declare data type of variables\n",
    "Because the Python Interpreter understand the datatype at Execution Time"
   ]
  },
  {
   "cell_type": "markdown",
   "metadata": {},
   "source": [
    "# 3.1 Syntax of Variable"
   ]
  },
  {
   "cell_type": "raw",
   "metadata": {},
   "source": [
    "Variable_Name Assignment_Operator Values."
   ]
  },
  {
   "cell_type": "markdown",
   "metadata": {},
   "source": [
    "# 3.1 Example"
   ]
  },
  {
   "cell_type": "code",
   "execution_count": 23,
   "metadata": {},
   "outputs": [],
   "source": [
    "my_variable = \"My Name is Bilal Zafar\""
   ]
  },
  {
   "cell_type": "code",
   "execution_count": 24,
   "metadata": {},
   "outputs": [
    {
     "name": "stdout",
     "output_type": "stream",
     "text": [
      "My Name is Bilal Zafar\n"
     ]
    }
   ],
   "source": [
    "print(my_variable)"
   ]
  },
  {
   "cell_type": "markdown",
   "metadata": {},
   "source": [
    "# 4. "
   ]
  },
  {
   "cell_type": "raw",
   "metadata": {},
   "source": [
    "Python has commenting capability for the purpose of in-code documentation.\n",
    "Comments start with a \"#,\" and Python will render the rest of the line as a comment:"
   ]
  },
  {
   "cell_type": "code",
   "execution_count": 28,
   "metadata": {},
   "outputs": [
    {
     "name": "stdout",
     "output_type": "stream",
     "text": [
      "Hello, World!\n"
     ]
    }
   ],
   "source": [
    "#This is a comment.\n",
    "print(\"Hello, World!\")"
   ]
  },
  {
   "cell_type": "code",
   "execution_count": null,
   "metadata": {},
   "outputs": [],
   "source": []
  }
 ],
 "metadata": {
  "kernelspec": {
   "display_name": "Python 3",
   "language": "python",
   "name": "python3"
  },
  "language_info": {
   "codemirror_mode": {
    "name": "ipython",
    "version": 3
   },
   "file_extension": ".py",
   "mimetype": "text/x-python",
   "name": "python",
   "nbconvert_exporter": "python",
   "pygments_lexer": "ipython3",
   "version": "3.7.4"
  }
 },
 "nbformat": 4,
 "nbformat_minor": 2
}
